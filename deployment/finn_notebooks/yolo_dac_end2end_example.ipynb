{
 "cells": [
  {
   "cell_type": "code",
   "execution_count": 5,
   "metadata": {},
   "outputs": [
    {
     "name": "stdout",
     "output_type": "stream",
     "text": [
      "Defaulting to user installation because normal site-packages is not writeable\n",
      "Obtaining file:///workspace/finn-base\n",
      "Requirement already satisfied: bitstring>=3.1.7 in /opt/conda/lib/python3.8/site-packages (from finn-base==0.0.3) (3.1.7)\n",
      "Requirement already satisfied: numpy in /opt/conda/lib/python3.8/site-packages (from finn-base==0.0.3) (1.21.4)\n",
      "Installing collected packages: finn-base\n",
      "  Running setup.py develop for finn-base\n",
      "Successfully installed finn-base\n"
     ]
    }
   ],
   "source": []
  },
  {
   "cell_type": "markdown",
   "metadata": {},
   "source": [
    "# End-to-End FINN Flow for a Simple Convolutional Net\n",
    "-----------------------------------------------------------------\n",
    "\n",
    "In this notebook, we will go through the FINN steps needed to take a binarized convolutional network all the way down to a heterogeneous streaming dataflow accelerator running on the FPGA. \n",
    "\n",
    "It's recommended to go through the simpler [end-to-end notebook for a fully connected network](tfc_end2end_example.ipynb) first, since many steps here are very similar and we will focus on what is done differently for convolutions.\n",
    "\n",
    "This notebook is quite lengthy, and some of the cells (involving Vivado synthesis) may take up to an hour to finish running. To let you save and resume your progress, we will save the intermediate ONNX models that are generated in the various steps to disk, so that you can jump back directly to where you left off."
   ]
  },
  {
   "cell_type": "markdown",
   "metadata": {},
   "source": [
    "## Quick Introduction to the CNV-w1a1 Network\n",
    "\n",
    "The particular quantized neural network (QNN) we will be targeting in this notebook is referred to as CNV-w1a1 and it classifies 32x32 RGB images into one of ten CIFAR-10 classes. All weights and activations in this network are quantized to bipolar values (either -1 or +1), with the exception of the input (which is RGB with 8 bits per channel) and the final output (which is 32-bit numbers). It first appeared in the original [FINN paper](https://arxiv.org/abs/1612.07119) from ISFPGA'17 with the name CNV, as a variant of the binarized convolutional network from the [BinaryNet paper](https://arxiv.org/abs/1602.02830), in turn inspired by the VGG-11 topology which was the runner-up for the 2014 [ImageNet Large Scale Visual Recognition Challenge](http://www.image-net.org/challenges/LSVRC/).\n",
    "\n",
    "\n",
    "You'll have a chance to interactively examine the layers that make up the network in Netron in a moment, so that's enough about the network for now. "
   ]
  },
  {
   "cell_type": "markdown",
   "metadata": {},
   "source": [
    "## Quick Recap of the End-to-End Flow\n",
    "\n",
    "The FINN compiler comes with many *transformations* that modify the ONNX representation of the network according to certain patterns. This notebook will demonstrate a *possible* sequence of such transformations to take a particular trained network all the way down to hardware, as shown in the figure below."
   ]
  },
  {
   "cell_type": "markdown",
   "metadata": {},
   "source": [
    "![](finn-design-flow-example.svg)"
   ]
  },
  {
   "cell_type": "markdown",
   "metadata": {},
   "source": [
    "The white fields show the state of the network representation in the respective step. The colored fields represent the transformations that are applied to the network to achieve a certain result. The diagram is divided into 5 sections represented by a different color, each of it includes several flow steps. The flow starts in top left corner with Brevitas export (green section), followed by the preparation of the network (blue section) for the Vivado HLS synthesis and Vivado IPI stitching (orange section), and finally building a PYNQ overlay bitfile and testing it on a PYNQ board (yellow section).\n",
    "There is an additional section for functional verification (red section) on the left side of the diagram, which we will not cover in this notebook. For details please take a look in the verification notebook which you can find [here](tfc_end2end_verification.ipynb)\n",
    "\n",
    "\n",
    "We will use the helper function `showInNetron` to show the ONNX model at the current transformation step. The Netron displays are interactive, but they only work when running the notebook actively and not on GitHub (i.e. if you are viewing this on GitHub you'll only see blank squares)."
   ]
  },
  {
   "cell_type": "code",
   "execution_count": 1,
   "metadata": {},
   "outputs": [],
   "source": [
    "from finn.util.basic import make_build_dir\n",
    "from finn.util.visualization import showInNetron\n",
    "from finn.core.modelwrapper import ModelWrapper\n",
    "from os.path import join\n",
    "import numpy as np\n",
    "    \n",
    "\n",
    "EXPORT_NAME = 'finnlayer_4w4a'\n",
    "# EXPORT_NAME = 'yolo_finn_6conv_4w4a_VOT_VTB'\n",
    "\n",
    "build_dir = join(EXPORT_NAME, 'onnxs')"
   ]
  },
  {
   "cell_type": "markdown",
   "metadata": {},
   "source": [
    "## 1. Brevitas Export, FINN Import and Tidy-Up\n",
    "\n",
    "Similar to what we did in the TFC-w1a1 end-to-end notebook, we will start by exporting the [pretrained CNV-w1a1 network](https://github.com/Xilinx/brevitas/tree/master/brevitas_examples/bnn_pynq) to ONNX, importing that into FINN and running the \"tidy-up\" transformations to have a first look at the topology."
   ]
  },
  {
   "cell_type": "code",
   "execution_count": 1,
   "metadata": {},
   "outputs": [
    {
     "name": "stdout",
     "output_type": "stream",
     "text": [
      "Package                           Version                  Location\r\n",
      "--------------------------------- ------------------------ --------------------------------\r\n",
      "alabaster                         0.7.12\r\n",
      "argon2-cffi                       21.3.0\r\n",
      "argon2-cffi-bindings              21.2.0\r\n",
      "attrs                             19.3.0\r\n",
      "Babel                             2.9.1\r\n",
      "backcall                          0.2.0\r\n",
      "backports.entry-points-selectable 1.1.1\r\n",
      "beautifulsoup4                    4.9.3\r\n",
      "bitstring                         3.1.7\r\n",
      "bleach                            4.1.0\r\n",
      "brevitas                          0.6.1.dev89+ga5b71d6     /workspace/brevitas/src\r\n",
      "brotlipy                          0.7.0\r\n",
      "cachetools                        4.2.4\r\n",
      "certifi                           2021.10.8\r\n",
      "cffi                              1.14.3\r\n",
      "cfgv                              3.3.1\r\n",
      "chardet                           3.0.4\r\n",
      "clize                             4.1.1\r\n",
      "conda                             4.9.2\r\n",
      "conda-build                       3.21.4\r\n",
      "conda-package-handling            1.7.2\r\n",
      "cryptography                      3.2.1\r\n",
      "cycler                            0.11.0\r\n",
      "dataclasses-json                  0.5.2\r\n",
      "dataset-loading                   0.0.4                    /workspace/src/dataset-loading\r\n",
      "deap                              1.3.1\r\n",
      "decorator                         4.4.2\r\n",
      "defusedxml                        0.7.1\r\n",
      "dependencies                      2.0.1\r\n",
      "distlib                           0.3.4\r\n",
      "dnspython                         2.1.0\r\n",
      "docrep                            0.2.7\r\n",
      "docutils                          0.18.1\r\n",
      "entrypoints                       0.3\r\n",
      "execnet                           1.9.0\r\n",
      "filelock                          3.4.0\r\n",
      "finn                              0.7+gd1cc9cf9.dirty      /workspace/finn/src\r\n",
      "finn-base                         0.0.3                    /workspace/finn-base/src\r\n",
      "finn-experimental                 0.0.post0.dev24+gaf61027 /workspace/finn-experimental/src\r\n",
      "future                            0.18.2\r\n",
      "future-annotations                1.0.0\r\n",
      "glob2                             0.7\r\n",
      "google-auth                       2.3.3\r\n",
      "google-auth-oauthlib              0.4.6\r\n",
      "gspread                           3.6.0\r\n",
      "identify                          2.4.0\r\n",
      "idna                              2.10\r\n",
      "imagesize                         1.3.0\r\n",
      "importlib-resources               5.4.0\r\n",
      "iniconfig                         1.1.1\r\n",
      "ipykernel                         5.5.5\r\n",
      "ipython                           7.19.0\r\n",
      "ipython-genutils                  0.2.0\r\n",
      "ipywidgets                        7.6.5\r\n",
      "jedi                              0.17.2\r\n",
      "Jinja2                            2.11.2\r\n",
      "joblib                            1.1.0\r\n",
      "jsonschema                        4.3.0\r\n",
      "jupyter                           1.0.0\r\n",
      "jupyter-client                    7.1.0\r\n",
      "jupyter-console                   6.4.0\r\n",
      "jupyter-core                      4.9.1\r\n",
      "jupyterlab-pygments               0.1.2\r\n",
      "jupyterlab-widgets                1.0.2\r\n",
      "kiwisolver                        1.3.2\r\n",
      "libarchive-c                      2.9\r\n",
      "MarkupSafe                        1.1.1\r\n",
      "marshmallow                       3.14.1\r\n",
      "marshmallow-enum                  1.5.1\r\n",
      "matplotlib                        3.3.1\r\n",
      "mip                               1.13.0\r\n",
      "mistune                           0.8.4\r\n",
      "mkl-fft                           1.2.0\r\n",
      "mkl-random                        1.1.1\r\n",
      "mkl-service                       2.3.0\r\n",
      "mypy-extensions                   0.4.3\r\n",
      "nbclient                          0.5.9\r\n",
      "nbconvert                         6.3.0\r\n",
      "nbformat                          5.1.3\r\n",
      "nest-asyncio                      1.5.4\r\n",
      "netron                            5.4.5\r\n",
      "networkx                          2.7.1\r\n",
      "nodeenv                           1.6.0\r\n",
      "notebook                          6.4.6\r\n",
      "numpy                             1.21.4\r\n",
      "oauthlib                          3.1.1\r\n",
      "od                                1.0\r\n",
      "olefile                           0.46\r\n",
      "onnx                              1.7.0\r\n",
      "onnxoptimizer                     0.2.6\r\n",
      "onnxruntime                       1.4.0\r\n",
      "packaging                         21.3\r\n",
      "pandas                            1.1.5\r\n",
      "pandocfilters                     1.5.0\r\n",
      "parso                             0.7.0\r\n",
      "pexpect                           4.8.0\r\n",
      "pickleshare                       0.7.5\r\n",
      "Pillow                            8.4.0\r\n",
      "pip                               20.2.4\r\n",
      "pkginfo                           1.7.0\r\n",
      "platformdirs                      2.4.0\r\n",
      "pluggy                            1.0.0\r\n",
      "pre-commit                        2.6.0\r\n",
      "prometheus-client                 0.12.0\r\n",
      "prompt-toolkit                    3.0.8\r\n",
      "protobuf                          3.19.1\r\n",
      "psutil                            5.7.2\r\n",
      "ptyprocess                        0.7.0\r\n",
      "py                                1.11.0\r\n",
      "pyasn1                            0.4.8\r\n",
      "pyasn1-modules                    0.2.8\r\n",
      "pycosat                           0.6.3\r\n",
      "pycparser                         2.20\r\n",
      "Pygments                          2.4.1\r\n",
      "pyOpenSSL                         19.1.0\r\n",
      "pyparsing                         3.0.6\r\n",
      "pyrsistent                        0.18.0\r\n",
      "PyScaffold                        3.2.1\r\n",
      "PySocks                           1.7.1\r\n",
      "pytest                            6.2.5\r\n",
      "pytest-dependency                 0.5.1\r\n",
      "pytest-forked                     1.4.0\r\n",
      "pytest-parallel                   0.1.0\r\n",
      "pytest-xdist                      2.0.0\r\n",
      "python-dateutil                   2.8.2\r\n",
      "python-etcd                       0.4.5\r\n",
      "pytz                              2020.5\r\n",
      "PyVerilator                       0.4.0                    /workspace/pyverilator\r\n",
      "PyYAML                            5.3.1\r\n",
      "pyzmq                             22.3.0\r\n",
      "qonnx                             0.0.post1.dev93+g9f9eff9 /workspace/qonnx/src\r\n",
      "qtconsole                         5.2.2\r\n",
      "QtPy                              1.11.3\r\n",
      "requests                          2.24.0\r\n",
      "requests-oauthlib                 1.3.0\r\n",
      "rsa                               4.8\r\n",
      "ruamel-yaml                       0.15.87\r\n",
      "scikit-learn                      0.24.1\r\n",
      "scipy                             1.5.2\r\n",
      "Send2Trash                        1.8.0\r\n",
      "setupext-janitor                  1.1.2\r\n",
      "setuptools                        50.3.1.post20201107\r\n",
      "sigtools                          2.0.3\r\n",
      "six                               1.16.0\r\n",
      "snowballstemmer                   2.2.0\r\n",
      "soupsieve                         2.1\r\n",
      "Sphinx                            3.1.2\r\n",
      "sphinx-rtd-theme                  0.5.0\r\n",
      "sphinxcontrib-applehelp           1.0.2\r\n",
      "sphinxcontrib-devhelp             1.0.2\r\n",
      "sphinxcontrib-htmlhelp            2.0.0\r\n",
      "sphinxcontrib-jsmath              1.0.1\r\n",
      "sphinxcontrib-qthelp              1.0.3\r\n",
      "sphinxcontrib-serializinghtml     1.1.5\r\n",
      "stringcase                        1.2.0\r\n",
      "tblib                             1.7.0\r\n",
      "tclwrapper                        0.0.1\r\n",
      "terminado                         0.12.1\r\n",
      "testpath                          0.5.0\r\n",
      "threadpoolctl                     3.0.0\r\n",
      "tokenize-rt                       4.2.1\r\n",
      "toml                              0.10.2\r\n",
      "toposort                          1.5\r\n",
      "torch                             1.7.1\r\n",
      "torchelastic                      0.2.1\r\n",
      "torchvision                       0.8.2\r\n",
      "tornado                           6.1\r\n",
      "tqdm                              4.31.1\r\n",
      "traitlets                         5.0.5\r\n",
      "typing-extensions                 3.7.4.3\r\n",
      "typing-inspect                    0.7.1\r\n",
      "urllib3                           1.25.11\r\n",
      "vcdvcd                            1.0.5\r\n",
      "virtualenv                        20.10.0\r\n",
      "wcwidth                           0.2.5\r\n",
      "webencodings                      0.5.1\r\n",
      "wget                              3.2\r\n",
      "wheel                             0.35.1\r\n",
      "widgetsnbextension                3.5.2\r\n",
      "zipp                              3.6.0\r\n"
     ]
    }
   ],
   "source": [
    "!pip list"
   ]
  },
  {
   "cell_type": "code",
   "execution_count": 9,
   "metadata": {},
   "outputs": [
    {
     "name": "stdout",
     "output_type": "stream",
     "text": [
      "<class 'finn_models.FINNLayer'>\n",
      "[[[ 98 100 101]\n",
      "  [ 97  99 100]\n",
      "  [ 95  97  98]\n",
      "  ...\n",
      "  [221 237 249]\n",
      "  [220 235 245]\n",
      "  [219 234 243]]\n",
      "\n",
      " [[ 96  98  99]\n",
      "  [ 94  96  97]\n",
      "  [ 91  92  93]\n",
      "  ...\n",
      "  [224 240 252]\n",
      "  [222 238 250]\n",
      "  [222 237 248]]\n",
      "\n",
      " [[ 93  95  97]\n",
      "  [ 90  92  94]\n",
      "  [ 86  87  89]\n",
      "  ...\n",
      "  [226 244 255]\n",
      "  [225 242 254]\n",
      "  [225 241 253]]\n",
      "\n",
      " ...\n",
      "\n",
      " [[223 236 252]\n",
      "  [223 236 252]\n",
      "  [223 236 252]\n",
      "  ...\n",
      "  [160 127 114]\n",
      "  [159 127 113]\n",
      "  [159 126 113]]\n",
      "\n",
      " [[223 234 251]\n",
      "  [223 234 251]\n",
      "  [223 234 251]\n",
      "  ...\n",
      "  [153 123 111]\n",
      "  [156 127 114]\n",
      "  [158 130 117]]\n",
      "\n",
      " [[223 233 250]\n",
      "  [223 233 250]\n",
      "  [223 233 250]\n",
      "  ...\n",
      "  [145 119 107]\n",
      "  [152 128 116]\n",
      "  [158 134 122]]]\n",
      "input shape: torch.Size([1, 3, 224, 224])\n",
      "test output: torch.Size([1, 64, 112, 112])\n",
      "tensor([[0.8471, 0.2353, 0.0000,  ..., 1.0000, 1.0000, 1.0000],\n",
      "        [1.0000, 0.3569, 0.0000,  ..., 0.2745, 0.2745, 1.0000],\n",
      "        [1.0000, 0.4784, 0.0000,  ..., 0.2745, 0.2745, 1.0000],\n",
      "        ...,\n",
      "        [0.2745, 0.2745, 0.2745,  ..., 0.3373, 0.3373, 1.0000],\n",
      "        [0.2745, 0.2745, 0.2745,  ..., 0.4392, 0.3373, 1.0000],\n",
      "        [0.2745, 0.2745, 0.2745,  ..., 0.7059, 0.1137, 1.0000]],\n",
      "       grad_fn=<SelectBackward>)\n"
     ]
    }
   ],
   "source": [
    "import onnx\n",
    "import torch\n",
    "from finn.util.test import get_test_model_trained\n",
    "import brevitas.onnx as bo\n",
    "from finn.core.modelwrapper import ModelWrapper\n",
    "from finn.transformation.infer_shapes import InferShapes\n",
    "from finn.transformation.fold_constants import FoldConstants\n",
    "from finn.transformation.general import GiveReadableTensorNames, GiveUniqueNodeNames, RemoveStaticGraphInputs\n",
    "import torchvision.transforms as transforms\n",
    "\n",
    "from finnmodels import get_pretrained_backbone, get_CNVmy\n",
    "from finn_models import get_finnlayer\n",
    "\n",
    "\n",
    "# def test_preprocess(data):\n",
    "#     return torch.tensor(data).float() / 255.0\n",
    "\n",
    "\n",
    "def test_preprocess(data):\n",
    "    transform = transforms.Compose([\n",
    "        transforms.ToTensor(),\n",
    "        transforms.Normalize(mean=[0.485, 0.456, 0.406], std=[0.229, 0.224, 0.225])\n",
    "    ])\n",
    "    result = transform(data)\n",
    "    result = result.unsqueeze(dim=0)\n",
    "\n",
    "    return result\n",
    "\n",
    "\n",
    "brevitas_model = get_finnlayer(join(EXPORT_NAME, 'savegame_0_15000.pth.tar'), w_a_bitwidths=(4, 4), load_weights=True, strict=False)\n",
    "# brevitas_model = get_test_model_trained(\"CNV\", 1, 1)\n",
    "# brevitas_model = get_pretrained_backbone(join(EXPORT_NAME, 'config.json'), join(EXPORT_NAME, 'test_best.pt'), pretrained=False)\n",
    "# brevitas_model = get_CNVmy(join(EXPORT_NAME, 'model.pt'), convonly=True, pretrained=False)\n",
    "# torch.save(brevitas_model.state_dict(), join(EXPORT_NAME, 'random_model.pt'))\n",
    "\n",
    "# brevitas_model.load_state_dict(torch.load(join(EXPORT_NAME, 'random_model.pt')))\n",
    "\n",
    "print(type(brevitas_model))\n",
    "test_input = np.load(join(EXPORT_NAME, 'test_input.npy'))\n",
    "# test_input = np.random.rand(1, 3, 224, 224)\n",
    "# np.save(join(EXPORT_NAME, 'input.npy'), test_input)\n",
    "print(test_input)\n",
    "\n",
    "test_input = test_preprocess(test_input)\n",
    "print('input shape:', test_input.shape)\n",
    "\n",
    "test_output = brevitas_model(test_input)\n",
    "print('test output:', test_output.shape)\n",
    "print(test_output[0, 0])\n",
    "\n",
    "bo.export_finn_onnx(brevitas_model, (1, 3, 224, 224), join(build_dir, EXPORT_NAME + \"_export.onnx\"))\n",
    "model = ModelWrapper(join(build_dir, EXPORT_NAME + \"_export.onnx\"))\n",
    "model = model.transform(InferShapes())\n",
    "model = model.transform(FoldConstants())\n",
    "model = model.transform(GiveUniqueNodeNames())\n",
    "model = model.transform(GiveReadableTensorNames())\n",
    "model = model.transform(RemoveStaticGraphInputs())\n",
    "model.save(join(build_dir, EXPORT_NAME + \"_tidy.onnx\"))"
   ]
  },
  {
   "cell_type": "markdown",
   "metadata": {},
   "source": [
    "Now that the model is exported, let's have a look at its layer structure with Netron. Remember that the visualization below is interactive, you can click on the individual nodes and view the layer attributes, trained weights and so on."
   ]
  },
  {
   "cell_type": "code",
   "execution_count": 3,
   "metadata": {},
   "outputs": [
    {
     "name": "stdout",
     "output_type": "stream",
     "text": [
      "Serving 'finnlayer/onnxs/finnlayer_tidy.onnx' at http://0.0.0.0:8081\n"
     ]
    },
    {
     "data": {
      "text/html": [
       "\n",
       "        <iframe\n",
       "            width=\"100%\"\n",
       "            height=\"400\"\n",
       "            src=\"http://localhost:8081/\"\n",
       "            frameborder=\"0\"\n",
       "            allowfullscreen\n",
       "        ></iframe>\n",
       "        "
      ],
      "text/plain": [
       "<IPython.lib.display.IFrame at 0x7feb8c0d8d90>"
      ]
     },
     "execution_count": 3,
     "metadata": {},
     "output_type": "execute_result"
    }
   ],
   "source": [
    "showInNetron(join(build_dir, EXPORT_NAME + \"_tidy.onnx\"))"
   ]
  },
  {
   "cell_type": "markdown",
   "metadata": {},
   "source": [
    "You can see that the network is composed of a repeating convolution-convolution-maxpool layer pattern to extract features using 3x3 convolution kernels (with weights binarized) and `Sign` activations, followed by fully connected layers acting as the classifier. Also notice the initial `MultiThreshold` layer at the beginning of the network, which is quantizing float inputs to 8-bit ones."
   ]
  },
  {
   "cell_type": "markdown",
   "metadata": {},
   "source": [
    "### Adding Pre- and Postprocessing <a id='prepost'></a>\n",
    "\n",
    "TODO"
   ]
  },
  {
   "cell_type": "code",
   "execution_count": 5,
   "metadata": {},
   "outputs": [
    {
     "name": "stderr",
     "output_type": "stream",
     "text": [
      "/workspace/finn-base/src/finn/transformation/infer_data_layouts.py:119: UserWarning: Assuming 4D input is NCHW\n",
      "  warnings.warn(\"Assuming 4D input is NCHW\")\n"
     ]
    }
   ],
   "source": [
    "import torch\n",
    "\n",
    "from finn.util.pytorch import NormalizePreProc, ToTensor\n",
    "from finn.transformation.merge_onnx_models import MergeONNXModels\n",
    "from finn.core.datatype import DataType\n",
    "from finn.transformation.infer_datatypes import InferDataTypes\n",
    "\n",
    "model = ModelWrapper(join(build_dir, EXPORT_NAME + \"_tidy.onnx\"))\n",
    "global_inp_name = model.graph.input[0].name\n",
    "ishape = model.get_tensor_shape(global_inp_name)\n",
    "# preprocessing: torchvision's ToTensor divides uint8 inputs by 255\n",
    "# transform = ToTensor()\n",
    "transform = NormalizePreProc(mean=[0.485, 0.456, 0.406],\n",
    "                             std=torch.tensor([0.229, 0.224, 0.225]).reshape(1, 3, 1, 1),\n",
    "                             channels=3)\n",
    "chkpt_preproc_name = join(build_dir, EXPORT_NAME + \"_preproc.onnx\")\n",
    "bo.export_finn_onnx(transform, ishape, chkpt_preproc_name)\n",
    "\n",
    "# join preprocessing and core model\n",
    "pre_model = ModelWrapper(chkpt_preproc_name)\n",
    "model = model.transform(MergeONNXModels(pre_model))\n",
    "# add input quantization annotation: UINT8 for all BNN-PYNQ models\n",
    "global_inp_name = model.graph.input[0].name\n",
    "model.set_tensor_datatype(global_inp_name, DataType[\"UINT8\"])\n",
    "\n",
    "# # postprocessing: insert Top-1 node at the end\n",
    "# model = model.transform(InsertTopK(k=1))\n",
    "# chkpt_name = join(build_dir, EXPORT_NAME + \"_TEST_pre_post.onnx\")\n",
    "chkpt_name = join(build_dir, EXPORT_NAME + \"_pre_post.onnx\")\n",
    "# tidy-up again\n",
    "model = model.transform(InferShapes())\n",
    "model = model.transform(FoldConstants())\n",
    "model = model.transform(GiveUniqueNodeNames())\n",
    "model = model.transform(GiveReadableTensorNames())\n",
    "model = model.transform(InferDataTypes())\n",
    "model = model.transform(RemoveStaticGraphInputs())\n",
    "model.save(chkpt_name)"
   ]
  },
  {
   "cell_type": "code",
   "execution_count": 19,
   "metadata": {},
   "outputs": [
    {
     "name": "stdout",
     "output_type": "stream",
     "text": [
      "Stopping http://0.0.0.0:8081\n",
      "Serving 'finnlayer/onnxs/finnlayer_pre_post.onnx' at http://0.0.0.0:8081\n"
     ]
    },
    {
     "data": {
      "text/html": [
       "\n",
       "        <iframe\n",
       "            width=\"100%\"\n",
       "            height=\"400\"\n",
       "            src=\"http://localhost:8081/\"\n",
       "            frameborder=\"0\"\n",
       "            allowfullscreen\n",
       "        ></iframe>\n",
       "        "
      ],
      "text/plain": [
       "<IPython.lib.display.IFrame at 0x7fe9dad8d6a0>"
      ]
     },
     "execution_count": 19,
     "metadata": {},
     "output_type": "execute_result"
    }
   ],
   "source": [
    "showInNetron(join(build_dir, EXPORT_NAME + \"_pre_post.onnx\"))"
   ]
  },
  {
   "cell_type": "markdown",
   "metadata": {},
   "source": [
    "## 2. How FINN Implements Convolutions: Lowering and Streamlining\n",
    "\n",
    "In FINN, we implement convolutions with the *lowering* approach: we convert them to matrix-matrix multiply operations, where one of the matrices is generated by sliding a window over the input image. You can read more about the sliding window operator and how convolution lowering works [in this notebook](https://github.com/maltanar/qnn-inference-examples/blob/master/3-convolutional-binarized-gtsrb.ipynb). The streaming dataflow architecture we will end up with is going to look something like this figure from the [FINN-R paper](https://arxiv.org/abs/1809.04570):\n",
    "\n",
    "![](cnv-mp-fc.png)\n",
    "\n",
    "Note how the convolution layer looks very similar to the fully connected one in terms of the matrix-vector-threshold unit (MVTU), but now the MVTU is preceded by a sliding window unit that produces the matrix from the input image. All of these building blocks, including the `MaxPool` layer you see in this figure, exist as templated Vivado HLS C++ functions in [finn-hlslib](https://github.com/Xilinx/finn-hlslib).\n",
    "\n",
    "\n",
    "To target this kind of hardware architecture with our network we'll apply a convolution lowering transformation, in addition to streamlining. You may recall the *streamlining transformation* that we applied to the TFC-w1a1 network, which is a series of mathematical simplifications that allow us to get rid of floating point scaling operations by implementing few-bit activations as thresholding operations. **The current implementation of streamlining is highly network-specific and may not work for your network if its topology is very different than the example network here. We hope to rectify this in future releases.**"
   ]
  },
  {
   "cell_type": "code",
   "execution_count": 6,
   "metadata": {},
   "outputs": [],
   "source": [
    "from finn.transformation.streamline import Streamline\n",
    "from finn.transformation.lower_convs_to_matmul import LowerConvsToMatMul\n",
    "from finn.transformation.bipolar_to_xnor import ConvertBipolarMatMulToXnorPopcount\n",
    "import finn.transformation.streamline.absorb as absorb\n",
    "from finn.transformation.streamline.reorder import MakeMaxPoolNHWC, MoveScalarLinearPastInvariants\n",
    "from finn.transformation.infer_data_layouts import InferDataLayouts\n",
    "from finn.transformation.general import RemoveUnusedTensors\n",
    "\n",
    "# model = ModelWrapper(join(build_dir, EXPORT_NAME + \"_TEST_pre_post.onnx\"))\n",
    "model = ModelWrapper(join(build_dir, EXPORT_NAME + \"_pre_post.onnx\"))\n",
    "model = model.transform(MoveScalarLinearPastInvariants())#1\n",
    "model = model.transform(Streamline())#2\n",
    "model = model.transform(LowerConvsToMatMul())#3\n",
    "model.save(join(build_dir, EXPORT_NAME + \"_premakemaxpool.onnx\"))\n",
    "# model.save(join(build_dir, EXPORT_NAME + \"_TEST_premakemaxpool.onnx\"))"
   ]
  },
  {
   "cell_type": "code",
   "execution_count": 3,
   "metadata": {},
   "outputs": [
    {
     "name": "stdout",
     "output_type": "stream",
     "text": [
      "Serving 'finnlayer/onnxs/finnlayer_TEST_premakemaxpool.onnx' at http://0.0.0.0:8081\n"
     ]
    },
    {
     "data": {
      "text/html": [
       "\n",
       "        <iframe\n",
       "            width=\"100%\"\n",
       "            height=\"400\"\n",
       "            src=\"http://localhost:8081/\"\n",
       "            frameborder=\"0\"\n",
       "            allowfullscreen\n",
       "        ></iframe>\n",
       "        "
      ],
      "text/plain": [
       "<IPython.lib.display.IFrame at 0x7fd96c4220d0>"
      ]
     },
     "execution_count": 3,
     "metadata": {},
     "output_type": "execute_result"
    }
   ],
   "source": [
    "showInNetron(join(build_dir, EXPORT_NAME + \"_TEST_premakemaxpool.onnx\"))"
   ]
  },
  {
   "cell_type": "code",
   "execution_count": 5,
   "metadata": {},
   "outputs": [
    {
     "name": "stdout",
     "output_type": "stream",
     "text": [
      "Serving 'finnlayer/onnxs/finnlayer_premakemaxpool.onnx' at http://0.0.0.0:8081\n"
     ]
    },
    {
     "data": {
      "text/html": [
       "\n",
       "        <iframe\n",
       "            width=\"100%\"\n",
       "            height=\"400\"\n",
       "            src=\"http://localhost:8081/\"\n",
       "            frameborder=\"0\"\n",
       "            allowfullscreen\n",
       "        ></iframe>\n",
       "        "
      ],
      "text/plain": [
       "<IPython.lib.display.IFrame at 0x7f006d005ca0>"
      ]
     },
     "execution_count": 5,
     "metadata": {},
     "output_type": "execute_result"
    }
   ],
   "source": [
    "showInNetron(join(build_dir, EXPORT_NAME + \"_premakemaxpool.onnx\"))"
   ]
  },
  {
   "cell_type": "code",
   "execution_count": 7,
   "metadata": {
    "scrolled": false
   },
   "outputs": [
    {
     "name": "stdout",
     "output_type": "stream",
     "text": [
      "MAXPOOL NODE:\n",
      "input: \"MultiThreshold_1_out0\"\n",
      "output: \"MaxPool_0_out0\"\n",
      "name: \"MaxPool_0\"\n",
      "op_type: \"MaxPool\"\n",
      "attribute {\n",
      "  name: \"kernel_shape\"\n",
      "  ints: 2\n",
      "  ints: 2\n",
      "  type: INTS\n",
      "}\n",
      "attribute {\n",
      "  name: \"pads\"\n",
      "  ints: 0\n",
      "  ints: 0\n",
      "  ints: 0\n",
      "  ints: 0\n",
      "  type: INTS\n",
      "}\n",
      "attribute {\n",
      "  name: \"strides\"\n",
      "  ints: 2\n",
      "  ints: 2\n",
      "  type: INTS\n",
      "}\n",
      "\n",
      "producer:\n",
      "input: \"Conv_0_out0\"\n",
      "input: \"MultiThreshold_1_param0\"\n",
      "output: \"MultiThreshold_1_out0\"\n",
      "name: \"MultiThreshold_1\"\n",
      "op_type: \"MultiThreshold\"\n",
      "attribute {\n",
      "  name: \"out_dtype\"\n",
      "  s: \"UINT8\"\n",
      "  type: STRING\n",
      "}\n",
      "domain: \"finn.custom_op.general\"\n",
      "\n",
      "consumer: <class 'onnx.onnx_ONNX_REL_1_7_ml_pb2.NodeProto'>\n",
      "input: \"MaxPool_0_out0\"\n",
      "input: \"Mul_0_param0\"\n",
      "output: \"global_out\"\n",
      "name: \"Mul_0\"\n",
      "op_type: \"Mul\"\n",
      "\n",
      "MAXPOOL NODE:\n",
      "input: \"Transpose_1_out0\"\n",
      "output: \"MaxPool_0_out0\"\n",
      "name: \"MaxPool_0\"\n",
      "op_type: \"MaxPool\"\n",
      "attribute {\n",
      "  name: \"kernel_shape\"\n",
      "  ints: 2\n",
      "  ints: 2\n",
      "  type: INTS\n",
      "}\n",
      "attribute {\n",
      "  name: \"pads\"\n",
      "  ints: 0\n",
      "  ints: 0\n",
      "  ints: 0\n",
      "  ints: 0\n",
      "  type: INTS\n",
      "}\n",
      "attribute {\n",
      "  name: \"strides\"\n",
      "  ints: 2\n",
      "  ints: 2\n",
      "  type: INTS\n",
      "}\n",
      "\n",
      "producer:\n",
      "input: \"MultiThreshold_1_out0\"\n",
      "output: \"Transpose_1_out0\"\n",
      "name: \"Transpose_1\"\n",
      "op_type: \"Transpose\"\n",
      "attribute {\n",
      "  name: \"perm\"\n",
      "  ints: 0\n",
      "  ints: 3\n",
      "  ints: 1\n",
      "  ints: 2\n",
      "  type: INTS\n",
      "}\n",
      "\n",
      "consumer: <class 'onnx.onnx_ONNX_REL_1_7_ml_pb2.NodeProto'>\n",
      "input: \"MaxPool_0_out0\"\n",
      "input: \"Mul_0_param0\"\n",
      "output: \"global_out\"\n",
      "name: \"Mul_0\"\n",
      "op_type: \"Mul\"\n",
      "\n",
      "KUPA\n",
      "Streamlined model saved as finnlayer_4w4a/onnxs/finnlayer_4w4a_streamlined.onnx\n"
     ]
    }
   ],
   "source": [
    "model = ModelWrapper(join(build_dir, EXPORT_NAME + \"_premakemaxpool.onnx\"))\n",
    "# model = ModelWrapper(join(build_dir, EXPORT_NAME + \"_TEST_premakemaxpool.onnx\"))\n",
    "model = model.transform(MakeMaxPoolNHWC())#4\n",
    "\n",
    "model.save(join(build_dir, EXPORT_NAME + \"_postmakemaxpool.onnx\"))\n",
    "# model.save(join(build_dir, EXPORT_NAME + \"_TEST_postmakemaxpool.onnx\"))\n",
    "\n",
    "model = model.transform(absorb.AbsorbTransposeIntoMultiThreshold())#5\n",
    "model = model.transform(ConvertBipolarMatMulToXnorPopcount())  #6\n",
    "model = model.transform(Streamline())#7\n",
    "# absorb final add-mul nodes into TopK\n",
    "# model = model.transform(absorb.AbsorbScalarMulAddIntoTopK())    # bo topkek\n",
    "model = model.transform(InferDataLayouts())#8\n",
    "model = model.transform(RemoveUnusedTensors())#9\n",
    "#EXTRA\n",
    "model = model.transform(MakeMaxPoolNHWC())#4 !!!!!!!EXTRA!!!!!!!!!!!!!!!!!!!!!!!!!!!!!!!!!!!!!!!!!!!!!!!!!!!\n",
    "model = model.transform(Streamline())#7\n",
    "model = model.transform(InferDataLayouts())#8\n",
    "model = model.transform(RemoveUnusedTensors())#9\n",
    "#oraz EXTRA\n",
    "\n",
    "streamlined_name = join(build_dir, EXPORT_NAME + \"_streamlined.onnx\")\n",
    "# streamlined_name = join(build_dir, EXPORT_NAME + \"_TEST_streamlined.onnx\")\n",
    "model.save(streamlined_name)\n",
    "print('Streamlined model saved as ' + streamlined_name)"
   ]
  },
  {
   "cell_type": "code",
   "execution_count": 8,
   "metadata": {},
   "outputs": [
    {
     "name": "stdout",
     "output_type": "stream",
     "text": [
      "Stopping http://0.0.0.0:8081\n",
      "Serving 'finnlayer/onnxs/finnlayer_TEST_postmakemaxpool.onnx' at http://0.0.0.0:8081\n"
     ]
    },
    {
     "data": {
      "text/html": [
       "\n",
       "        <iframe\n",
       "            width=\"100%\"\n",
       "            height=\"400\"\n",
       "            src=\"http://localhost:8081/\"\n",
       "            frameborder=\"0\"\n",
       "            allowfullscreen\n",
       "        ></iframe>\n",
       "        "
      ],
      "text/plain": [
       "<IPython.lib.display.IFrame at 0x7f006d017550>"
      ]
     },
     "execution_count": 8,
     "metadata": {},
     "output_type": "execute_result"
    }
   ],
   "source": [
    "showInNetron(join(build_dir, EXPORT_NAME + \"_TEST_postmakemaxpool.onnx\"))"
   ]
  },
  {
   "cell_type": "code",
   "execution_count": 6,
   "metadata": {},
   "outputs": [
    {
     "name": "stdout",
     "output_type": "stream",
     "text": [
      "Serving 'finnlayer/onnxs/finnlayer_postmakemaxpool.onnx' at http://0.0.0.0:8081\n"
     ]
    },
    {
     "data": {
      "text/html": [
       "\n",
       "        <iframe\n",
       "            width=\"100%\"\n",
       "            height=\"400\"\n",
       "            src=\"http://localhost:8081/\"\n",
       "            frameborder=\"0\"\n",
       "            allowfullscreen\n",
       "        ></iframe>\n",
       "        "
      ],
      "text/plain": [
       "<IPython.lib.display.IFrame at 0x7fdb6f0f9dc0>"
      ]
     },
     "execution_count": 6,
     "metadata": {},
     "output_type": "execute_result"
    }
   ],
   "source": [
    "showInNetron(join(build_dir, EXPORT_NAME + \"_postmakemaxpool.onnx\"))"
   ]
  },
  {
   "cell_type": "markdown",
   "metadata": {},
   "source": [
    "We won't go into too much detail about what happens in each transformation and why they are called in the particular order they are (feel free to visualize the intermediate steps using Netron yourself if you are curious) but here is a brief summmmary:\n",
    "\n",
    "* `Streamline` moves floating point scaling and addition operations closer to the input of the nearest thresholding activation and absorbs them into thresholds\n",
    "* `LowerConvsToMatMul` converts ONNX `Conv` nodes into sequences of `Im2Col, MatMul` nodes as discussed above. `Im2Col` is a custom FINN ONNX high-level node type that implements the sliding window operator.\n",
    "* `MakeMaxPoolNHWC` and `AbsorbTransposeIntoMultiThreshold` convert the *data layout* of the network into the NHWC data layout that finn-hlslib primitives use. NCHW means the tensor dimensions are ordered as `(N : batch, H : height, W : width, C : channels)` (assuming 2D images). The ONNX standard ops normally use the NCHW layout, but the ONNX intermediate representation itself does not dictate any data layout.\n",
    "* You may recall `ConvertBipolarMatMulToXnorPopcount` from the TFC-w1a1 example, which is needed to implement bipolar-by-bipolar (w1a1) networks correctly using finn-hlslib.\n",
    "\n",
    "Let's visualize the streamlined and lowered network with Netron. Observe how all the `Conv` nodes have turned into pairs of `Im2Col, MatMul` nodes, and many nodes including `BatchNorm, Mul, Add` nodes have disappeared and replaced with `MultiThreshold` nodes."
   ]
  },
  {
   "cell_type": "code",
   "execution_count": 29,
   "metadata": {},
   "outputs": [
    {
     "name": "stdout",
     "output_type": "stream",
     "text": [
      "Stopping http://0.0.0.0:8081\n",
      "Serving 'finnlayer/onnxs/finnlayer_streamlined.onnx' at http://0.0.0.0:8081\n"
     ]
    },
    {
     "data": {
      "text/html": [
       "\n",
       "        <iframe\n",
       "            width=\"100%\"\n",
       "            height=\"400\"\n",
       "            src=\"http://localhost:8081/\"\n",
       "            frameborder=\"0\"\n",
       "            allowfullscreen\n",
       "        ></iframe>\n",
       "        "
      ],
      "text/plain": [
       "<IPython.lib.display.IFrame at 0x7fdc7cfb1f70>"
      ]
     },
     "execution_count": 29,
     "metadata": {},
     "output_type": "execute_result"
    }
   ],
   "source": [
    "showInNetron(join(build_dir, EXPORT_NAME + \"_streamlined.onnx\"))"
   ]
  },
  {
   "cell_type": "code",
   "execution_count": 9,
   "metadata": {},
   "outputs": [
    {
     "name": "stdout",
     "output_type": "stream",
     "text": [
      "Stopping http://0.0.0.0:8081\n",
      "Serving 'finnlayer/onnxs/finnlayer_TEST_streamlined.onnx' at http://0.0.0.0:8081\n"
     ]
    },
    {
     "data": {
      "text/html": [
       "\n",
       "        <iframe\n",
       "            width=\"100%\"\n",
       "            height=\"400\"\n",
       "            src=\"http://localhost:8081/\"\n",
       "            frameborder=\"0\"\n",
       "            allowfullscreen\n",
       "        ></iframe>\n",
       "        "
      ],
      "text/plain": [
       "<IPython.lib.display.IFrame at 0x7eff79b193a0>"
      ]
     },
     "execution_count": 9,
     "metadata": {},
     "output_type": "execute_result"
    }
   ],
   "source": [
    "showInNetron(join(build_dir, EXPORT_NAME + \"_TEST_streamlined.onnx\"))"
   ]
  },
  {
   "cell_type": "markdown",
   "metadata": {},
   "source": [
    "## 3. Partitioning, Conversion to HLS Layers and Folding\n",
    "\n",
    "The next steps will be (again) very similar to what we did for the TFC-w1a1 network. We'll first convert the layers that we can put into the FPGA into their HLS equivalents and separate them out into a *dataflow partition*:\n"
   ]
  },
  {
   "cell_type": "code",
   "execution_count": 8,
   "metadata": {},
   "outputs": [],
   "source": [
    "import finn.transformation.fpgadataflow.convert_to_hls_layers as to_hls\n",
    "from finn.transformation.fpgadataflow.create_dataflow_partition import (\n",
    "    CreateDataflowPartition,\n",
    ")\n",
    "from finn.transformation.move_reshape import RemoveCNVtoFCFlatten\n",
    "from finn.custom_op.registry import getCustomOp\n",
    "from finn.transformation.infer_data_layouts import InferDataLayouts\n",
    "\n",
    "import finn.transformation.streamline.absorb as absorb\n",
    "\n",
    "# choose the memory mode for the MVTU units, decoupled or const\n",
    "mem_mode = \"decoupled\"\n",
    "\n",
    "model = ModelWrapper(join(build_dir, EXPORT_NAME + \"_streamlined.onnx\"))\n",
    "# model = ModelWrapper(join(build_dir, EXPORT_NAME + \"_TEST_streamlined.onnx\"))\n",
    "model = model.transform(to_hls.InferBinaryStreamingFCLayer(mem_mode))\n",
    "model = model.transform(to_hls.InferQuantizedStreamingFCLayer(mem_mode))\n",
    "# TopK to LabelSelect\n",
    "model = model.transform(to_hls.InferLabelSelectLayer())      \n",
    "# input quantization (if any) to standalone thresholding\n",
    "model = model.transform(to_hls.InferThresholdingLayer())\n",
    "model = model.transform(to_hls.InferConvInpGen())\n",
    "# model.save(join(build_dir, EXPORT_NAME + \"_TEST_preinfermaxpool.onnx\"))"
   ]
  },
  {
   "cell_type": "code",
   "execution_count": 9,
   "metadata": {},
   "outputs": [
    {
     "name": "stdout",
     "output_type": "stream",
     "text": [
      "Stopping http://0.0.0.0:8081\n",
      "Serving 'finnlayer/onnxs/finnlayer_preinfermaxpool.onnx' at http://0.0.0.0:8081\n"
     ]
    },
    {
     "data": {
      "text/html": [
       "\n",
       "        <iframe\n",
       "            width=\"100%\"\n",
       "            height=\"400\"\n",
       "            src=\"http://localhost:8081/\"\n",
       "            frameborder=\"0\"\n",
       "            allowfullscreen\n",
       "        ></iframe>\n",
       "        "
      ],
      "text/plain": [
       "<IPython.lib.display.IFrame at 0x7f49e42a5ca0>"
      ]
     },
     "execution_count": 9,
     "metadata": {},
     "output_type": "execute_result"
    }
   ],
   "source": [
    "showInNetron(join(build_dir, EXPORT_NAME + \"_preinfermaxpool.onnx\"))"
   ]
  },
  {
   "cell_type": "code",
   "execution_count": 9,
   "metadata": {},
   "outputs": [
    {
     "name": "stdout",
     "output_type": "stream",
     "text": [
      "Stopping http://0.0.0.0:8081\n",
      "Serving 'finnlayer/onnxs/finnlayer_preinfermaxpool.onnx' at http://0.0.0.0:8081\n"
     ]
    },
    {
     "data": {
      "text/html": [
       "\n",
       "        <iframe\n",
       "            width=\"100%\"\n",
       "            height=\"400\"\n",
       "            src=\"http://localhost:8081/\"\n",
       "            frameborder=\"0\"\n",
       "            allowfullscreen\n",
       "        ></iframe>\n",
       "        "
      ],
      "text/plain": [
       "<IPython.lib.display.IFrame at 0x7f49e42a5ca0>"
      ]
     },
     "execution_count": 9,
     "metadata": {},
     "output_type": "execute_result"
    }
   ],
   "source": [
    "showInNetron(join(build_dir, EXPORT_NAME + \"_TEST_preinfermaxpool.onnx\"))"
   ]
  },
  {
   "cell_type": "code",
   "execution_count": 9,
   "metadata": {},
   "outputs": [],
   "source": [
    "model = model.transform(to_hls.InferStreamingMaxPool())\n",
    "# get rid of Reshape(-1, 1) operation between hlslib nodes\n",
    "model = model.transform(RemoveCNVtoFCFlatten())        \n",
    "# get rid of Tranpose -> Tranpose identity seq\n",
    "model = model.transform(absorb.AbsorbConsecutiveTransposes())\n",
    "# infer tensor data layouts\n",
    "model = model.transform(InferDataLayouts())\n",
    "model.save(join(build_dir, EXPORT_NAME + \"_predataflow.onnx\"))\n",
    "# model = ModelWrapper(join(build_dir, EXPORT_NAME + \"_TEST_predataflow.onnx\"))"
   ]
  },
  {
   "cell_type": "code",
   "execution_count": 10,
   "metadata": {
    "scrolled": false
   },
   "outputs": [
    {
     "name": "stdout",
     "output_type": "stream",
     "text": [
      "TO CHECK:\n",
      "input: \"global_in\"\n",
      "output: \"H2L8oA\"\n",
      "op_type: \"Transpose\"\n",
      "attribute {\n",
      "  name: \"perm\"\n",
      "  ints: 0\n",
      "  ints: 2\n",
      "  ints: 3\n",
      "  ints: 1\n",
      "  type: INTS\n",
      "}\n",
      "\n"
     ]
    }
   ],
   "source": [
    "model = ModelWrapper(join(build_dir, EXPORT_NAME + \"_predataflow.onnx\"))\n",
    "# model = ModelWrapper(join(build_dir, EXPORT_NAME + \"_TEST_predataflow.onnx\"))\n",
    "parent_model = model.transform(CreateDataflowPartition())\n",
    "parent_model.save(join(build_dir, EXPORT_NAME + \"_dataflow_parent.onnx\"))\n",
    "sdp_node = parent_model.get_nodes_by_op_type(\"StreamingDataflowPartition\")[0]\n",
    "sdp_node = getCustomOp(sdp_node)\n",
    "dataflow_model_filename = sdp_node.get_nodeattr(\"model\")\n",
    "# save the dataflow partition with a different name for easier access\n",
    "dataflow_model = ModelWrapper(dataflow_model_filename)\n",
    "dataflow_model.save(join(build_dir, EXPORT_NAME + \"_dataflow_model.onnx\"))"
   ]
  },
  {
   "cell_type": "markdown",
   "metadata": {},
   "source": [
    "Notice the additional `RemoveCNVtoFCFlatten` transformation that was not used for TFC-w1a1. In the last Netron visualization you may have noticed a `Reshape` operation towards the end of the network where the convolutional part of the network ends and the fully-connected layers started. That `Reshape` is essentialy a tensor flattening operation, which we can remove for the purposes of hardware implementation. We can examine the contents of the dataflow partition with Netron, and observe the `ConvolutionInputGenerator`, `StreamingFCLayer_Batch` and `StreamingMaxPool_Batch` nodes that implement the sliding window, matrix multiply and maxpool operations in hlslib. *Note that the StreamingFCLayer instances following the ConvolutionInputGenerator nodes are really implementing the convolutions, despite the name. The final three StreamingFCLayer instances implement actual FC layers.*"
   ]
  },
  {
   "cell_type": "code",
   "execution_count": 15,
   "metadata": {},
   "outputs": [
    {
     "name": "stdout",
     "output_type": "stream",
     "text": [
      "Stopping http://0.0.0.0:8081\n",
      "Serving 'finnlayer/onnxs/finnlayer_predataflow.onnx' at http://0.0.0.0:8081\n"
     ]
    },
    {
     "data": {
      "text/html": [
       "\n",
       "        <iframe\n",
       "            width=\"100%\"\n",
       "            height=\"400\"\n",
       "            src=\"http://localhost:8081/\"\n",
       "            frameborder=\"0\"\n",
       "            allowfullscreen\n",
       "        ></iframe>\n",
       "        "
      ],
      "text/plain": [
       "<IPython.lib.display.IFrame at 0x7f7d4426f2b0>"
      ]
     },
     "execution_count": 15,
     "metadata": {},
     "output_type": "execute_result"
    }
   ],
   "source": [
    "showInNetron(join(build_dir, EXPORT_NAME + \"_predataflow.onnx\"))"
   ]
  },
  {
   "cell_type": "code",
   "execution_count": 15,
   "metadata": {},
   "outputs": [
    {
     "name": "stdout",
     "output_type": "stream",
     "text": [
      "Stopping http://0.0.0.0:8081\n",
      "Serving 'finnlayer/onnxs/finnlayer_TEST_predataflow.onnx' at http://0.0.0.0:8081\n"
     ]
    },
    {
     "data": {
      "text/html": [
       "\n",
       "        <iframe\n",
       "            width=\"100%\"\n",
       "            height=\"400\"\n",
       "            src=\"http://localhost:8081/\"\n",
       "            frameborder=\"0\"\n",
       "            allowfullscreen\n",
       "        ></iframe>\n",
       "        "
      ],
      "text/plain": [
       "<IPython.lib.display.IFrame at 0x7fe9dbdbf6d0>"
      ]
     },
     "execution_count": 15,
     "metadata": {},
     "output_type": "execute_result"
    }
   ],
   "source": [
    "showInNetron(join(build_dir, EXPORT_NAME + \"_TEST_predataflow.onnx\"))"
   ]
  },
  {
   "cell_type": "code",
   "execution_count": 16,
   "metadata": {
    "scrolled": true
   },
   "outputs": [
    {
     "name": "stdout",
     "output_type": "stream",
     "text": [
      "Serving 'finnlayer_4w4a/onnxs/finnlayer_4w4a_dataflow_parent.onnx' at http://0.0.0.0:8081\n"
     ]
    },
    {
     "data": {
      "text/html": [
       "\n",
       "        <iframe\n",
       "            width=\"100%\"\n",
       "            height=\"400\"\n",
       "            src=\"http://localhost:8081/\"\n",
       "            frameborder=\"0\"\n",
       "            allowfullscreen\n",
       "        ></iframe>\n",
       "        "
      ],
      "text/plain": [
       "<IPython.lib.display.IFrame at 0x7f8eb9cfa7c0>"
      ]
     },
     "execution_count": 16,
     "metadata": {},
     "output_type": "execute_result"
    }
   ],
   "source": [
    "showInNetron(join(build_dir, EXPORT_NAME + \"_dataflow_parent.onnx\"))"
   ]
  },
  {
   "cell_type": "markdown",
   "metadata": {},
   "source": [
    "Note that pretty much everything has gone into the `StreamingDataflowPartition` node; the only operation remaining is to apply a `Transpose` to obtain NHWC input from a NCHW input (the ONNX default). "
   ]
  },
  {
   "cell_type": "code",
   "execution_count": 37,
   "metadata": {},
   "outputs": [
    {
     "name": "stdout",
     "output_type": "stream",
     "text": [
      "Stopping http://0.0.0.0:8081\n",
      "Serving 'finnlayer/onnxs/finnlayer_dataflow_model.onnx' at http://0.0.0.0:8081\n"
     ]
    },
    {
     "data": {
      "text/html": [
       "\n",
       "        <iframe\n",
       "            width=\"100%\"\n",
       "            height=\"400\"\n",
       "            src=\"http://localhost:8081/\"\n",
       "            frameborder=\"0\"\n",
       "            allowfullscreen\n",
       "        ></iframe>\n",
       "        "
      ],
      "text/plain": [
       "<IPython.lib.display.IFrame at 0x7fdb6f0ec820>"
      ]
     },
     "execution_count": 37,
     "metadata": {},
     "output_type": "execute_result"
    }
   ],
   "source": [
    "showInNetron(join(build_dir, EXPORT_NAME + \"_dataflow_model.onnx\"))"
   ]
  },
  {
   "cell_type": "markdown",
   "metadata": {},
   "source": [
    "Now we have to set the *folding factors* for certain layers to adjust the performance of our accelerator, similar to the TFC-w1a1 example. We'll also set the desired FIFO depths around those layers, which are important to achieve full throughput in the accelerator."
   ]
  },
  {
   "cell_type": "code",
   "execution_count": 12,
   "metadata": {},
   "outputs": [
    {
     "name": "stdout",
     "output_type": "stream",
     "text": [
      "Folding:\n",
      "[64, 3, 128]\n",
      "Resource types per layer:\n",
      "lut\n",
      "Nodes datatypes:\n",
      "INT12\n"
     ]
    }
   ],
   "source": [
    "import json\n",
    "\n",
    "from finn.util.fpgadataflow import is_fpgadataflow_node\n",
    "\n",
    "with open(join(EXPORT_NAME, 'config.json'), 'r') as json_file:\n",
    "    config = json.load(json_file)\n",
    "model = ModelWrapper(join(build_dir, EXPORT_NAME + \"_dataflow_model.onnx\"))\n",
    "fc_layers = model.get_nodes_by_op_type(\"StreamingFCLayer_Batch\")\n",
    "# each tuple is (PE, SIMD, in_fifo_depth) for a layer\n",
    "# cou/pe * cin/simd folding warstwy\n",
    "# jak poling 2x2: 4 razy większy folding może miec następna warstwa\n",
    "\n",
    "folding = config['folding']\n",
    "resource_types = config['fpga_resource_types'] if 'fpga_resource_types' in config else ['lut'] * len(folding)\n",
    "print('Folding:')\n",
    "for el in folding:\n",
    "    print(el)\n",
    "print('Resource types per layer:')\n",
    "for el in resource_types:\n",
    "    print(el)\n",
    "\n",
    "# [[16, true], [32, true], [64, true], [64, true], [64, false], [36, false]]\n",
    "# folding = [\n",
    "#     (16, 3, 128),    # 16/16 * 3/3 = 1 * 1 = 1   MAXPOOL\n",
    "#     (16, 8, 128),    # 32/16 * 16/8 = 2 * 2 = 4   MAXPOOL\n",
    "#     (16, 8, 128),    # 64/16 * 32/8 = 4 * 4 = 16   MAXPOOL\n",
    "#     (8, 8, 128),     # 64/8 * 64/8 = 8 * 8 = 64   MAXPOOL\n",
    "#     (4, 4, 128),     # 64/4 * 64/4 = 16 * 16 = 256   \n",
    "#     (9, 1, 128),     # 36/9 * 64/1 = 4 * 64 = 256\n",
    "# ]\n",
    "\n",
    "# [[16, true], [32, true], [64, true], [64, true], [64, false], [36, false]]\n",
    "# folding = [\n",
    "#     (4, 3, 128),    # 16/4 * 3/3 = 4 * 1 = 4   MAXPOOL\n",
    "#     (8, 4, 128),    # 32/8 * 16/4 = 4 * 4 = 16   MAXPOOL\n",
    "#     (8, 4, 128),    # 64/8 * 32/4 = 8 * 8 = 64   MAXPOOL\n",
    "#     (4, 4, 128),    # 64/4 * 64/4 = 16 * 16 = 256   MAXPOOL\n",
    "#     (2, 2, 81),     # 64/2 * 64/2 = 32 * 32 = 1024   \n",
    "#     (9, 1, 2),     # 36/9 * 64/1 = 4 * 64 = 256\n",
    "# ]\n",
    "\n",
    "# EXAMPLE CONV w1a1:\n",
    "# [(64, False), (64, True), (128, False), (128, True), (256, False), (256, False)]\n",
    "# \n",
    "# folding = [\n",
    "#     (16, 3, 128),   # 64/16 * 3/3 = 4 * 1 = 4\n",
    "#     (32, 32, 128),  # 64/32 * 64/32 = 2 * 2 = 4   MAXPOOL\n",
    "#     (16, 32, 128),  # 128/16 * 64/32 = 8 * 2 = 16\n",
    "#     (16, 32, 128),  # 128/16 * 128/32 = 8 * 4 = 32  MAXPOOL\n",
    "#     (4, 32, 81),    # 256/4 * 128/32 = 64 * 4 = 256 \n",
    "#     (1, 32, 2),     # 256/1 * 256/32 = 256 * 8 = 2048\n",
    "#     (1, 4, 2),\n",
    "#     (1, 8, 128),\n",
    "#     (5, 1, 3),\n",
    "# ]\n",
    "for fcl, restype, (pe, simd, ififodepth) in zip(fc_layers, resource_types, folding):\n",
    "    fcl_inst = getCustomOp(fcl)\n",
    "    fcl_inst.set_nodeattr(\"PE\", pe)\n",
    "    fcl_inst.set_nodeattr(\"SIMD\", simd)\n",
    "    fcl_inst.set_nodeattr(\"inFIFODepth\", ififodepth)\n",
    "    fcl_inst.set_nodeattr('resType', restype)\n",
    "\n",
    "# use same SIMD values for the sliding window operators\n",
    "swg_layers = model.get_nodes_by_op_type(\"ConvolutionInputGenerator\")\n",
    "for i in range(len(swg_layers)):\n",
    "    swg_inst = getCustomOp(swg_layers[i])\n",
    "    simd = folding[i][1]\n",
    "    swg_inst.set_nodeattr(\"SIMD\", simd)\n",
    "\n",
    "model = model.transform(GiveUniqueNodeNames())\n",
    "model.save(join(build_dir, EXPORT_NAME + \"_folded.onnx\"))\n",
    "\n",
    "print('Nodes datatypes:')\n",
    "for node in model.graph.node:\n",
    "    inst = getCustomOp(node)\n",
    "    try:\n",
    "        print(inst.get_nodeattr('accDataType'))\n",
    "    except:\n",
    "        pass"
   ]
  },
  {
   "cell_type": "markdown",
   "metadata": {},
   "source": [
    "Below we visualize in Netron to observe the `StreamingDataWidthConverter` and `StreamingFIFO` nodes that have been inserted into graph, as well as the folding factors in the `PE` and `SIMD` attributes of each `StreamingFCLayer_Batch`."
   ]
  },
  {
   "cell_type": "code",
   "execution_count": 11,
   "metadata": {},
   "outputs": [
    {
     "name": "stdout",
     "output_type": "stream",
     "text": [
      "Stopping http://0.0.0.0:8081\n",
      "Serving 'yolo_finn_6conv_4w4a_VOT_VTB/onnxs/yolo_finn_6conv_4w4a_VOT_VTB_folded.onnx' at http://0.0.0.0:8081\n"
     ]
    },
    {
     "data": {
      "text/html": [
       "\n",
       "        <iframe\n",
       "            width=\"100%\"\n",
       "            height=\"400\"\n",
       "            src=\"http://localhost:8081/\"\n",
       "            frameborder=\"0\"\n",
       "            allowfullscreen\n",
       "        ></iframe>\n",
       "        "
      ],
      "text/plain": [
       "<IPython.lib.display.IFrame at 0x7fc261053e50>"
      ]
     },
     "execution_count": 11,
     "metadata": {},
     "output_type": "execute_result"
    }
   ],
   "source": [
    "showInNetron(join(build_dir, EXPORT_NAME + \"_folded.onnx\"))"
   ]
  },
  {
   "cell_type": "markdown",
   "metadata": {},
   "source": [
    "Our network is now ready and we can start with the hardware generation."
   ]
  },
  {
   "cell_type": "markdown",
   "metadata": {},
   "source": [
    "## 4. Hardware Generation\n",
    "\n",
    "From this point onward, the steps we have to follow do not depend on the particular network and will be exactly the same as the TFC-w1a1 example. **which may take about 30 minutes depending on your host computer**. For more details about what's going on in this step, please consult the [TFC end-to-end notebook](tfc_end2end_example.ipynb) or the appropriate section in the [FINN documentation](https://finn.readthedocs.io/en/latest/hw_build.html)."
   ]
  },
  {
   "cell_type": "code",
   "execution_count": 13,
   "metadata": {
    "scrolled": true
   },
   "outputs": [
    {
     "name": "stdout",
     "output_type": "stream",
     "text": [
      "Building finnlayer_4w4a/onnxs/finnlayer_4w4a_folded.onnx\n",
      "TO CHECK:\n",
      "None\n",
      "TO CHECK:\n",
      "input: \"StreamingFCLayer_Batch_0_out0\"\n",
      "output: \"StreamingMaxPool_Batch_0_out0\"\n",
      "name: \"StreamingMaxPool_Batch_0\"\n",
      "op_type: \"StreamingMaxPool_Batch\"\n",
      "attribute {\n",
      "  name: \"ImgDim\"\n",
      "  ints: 224\n",
      "  ints: 224\n",
      "  type: INTS\n",
      "}\n",
      "attribute {\n",
      "  name: \"NumChannels\"\n",
      "  i: 64\n",
      "  type: INT\n",
      "}\n",
      "attribute {\n",
      "  name: \"PoolDim\"\n",
      "  ints: 2\n",
      "  ints: 2\n",
      "  type: INTS\n",
      "}\n",
      "attribute {\n",
      "  name: \"backend\"\n",
      "  s: \"fpgadataflow\"\n",
      "  type: STRING\n",
      "}\n",
      "attribute {\n",
      "  name: \"dataType\"\n",
      "  s: \"UINT8\"\n",
      "  type: STRING\n",
      "}\n",
      "attribute {\n",
      "  name: \"slr\"\n",
      "  i: -1\n",
      "  type: INT\n",
      "}\n",
      "attribute {\n",
      "  name: \"partition_id\"\n",
      "  i: 2\n",
      "  type: INT\n",
      "}\n",
      "domain: \"finn.custom_op.fpgadataflow\"\n",
      "\n",
      "TO CHECK:\n",
      "input: \"global_in\"\n",
      "output: \"IODMA_0_out0\"\n",
      "name: \"GenericPartition_0\"\n",
      "op_type: \"GenericPartition\"\n",
      "attribute {\n",
      "  name: \"model\"\n",
      "  s: \"/tmp/finn_dev_magister/dataflow_partition_h4y98mxu/partition_0.onnx\"\n",
      "  type: STRING\n",
      "}\n",
      "domain: \"finn.custom_op.general\"\n",
      "\n"
     ]
    },
    {
     "name": "stderr",
     "output_type": "stream",
     "text": [
      "/workspace/finn/src/finn/transformation/fpgadataflow/floorplan.py:107: UserWarning: 8 nodes have no entry in the provided floorplan, SLR was set to -1\n",
      "  warnings.warn(\n",
      "/workspace/finn/src/finn/transformation/fpgadataflow/insert_fifo.py:154: UserWarning: Overriding input FIFO depth to 32\n",
      "  warnings.warn(\"Overriding input FIFO depth to 32\")\n",
      "/workspace/finn/src/finn/transformation/fpgadataflow/insert_fifo.py:201: UserWarning: Overriding output FIFO depth to 32\n",
      "  warnings.warn(\"Overriding output FIFO depth to 32\")\n"
     ]
    },
    {
     "name": "stdout",
     "output_type": "stream",
     "text": [
      "ZynqBuild done\n",
      "Saved\n"
     ]
    }
   ],
   "source": [
    "from finn.core.modelwrapper import ModelWrapper\n",
    "from finn.transformation.fpgadataflow.make_zynq_proj import ZynqBuild\n",
    "\n",
    "test_pynq_board = \"Ultra96\"\n",
    "target_clk_ns = 3\n",
    "\n",
    "print('Building', join(build_dir, EXPORT_NAME + \"_folded.onnx\"))\n",
    "model = ModelWrapper(join(build_dir, EXPORT_NAME + \"_folded.onnx\"))\n",
    "model = model.transform(ZynqBuild(platform = test_pynq_board, period_ns = target_clk_ns))\n",
    "print('ZynqBuild done')\n",
    "model.save(join(build_dir, EXPORT_NAME + \"_synth.onnx\"))\n",
    "print('Saved')"
   ]
  },
  {
   "cell_type": "code",
   "execution_count": null,
   "metadata": {},
   "outputs": [],
   "source": []
  },
  {
   "cell_type": "markdown",
   "metadata": {},
   "source": [
    "## 5. Deployment and Remote Execution\n",
    "\n",
    "Now that we're done with the hardware generation, we can generate a Python driver for accelerator and copy the necessary files onto our PYNQ board.\n",
    "\n",
    "**Make sure you've [set up the SSH keys for your PYNQ board](https://finn-dev.readthedocs.io/en/latest/getting_started.html#pynq-board-first-time-setup) before executing this step.**"
   ]
  },
  {
   "cell_type": "code",
   "execution_count": 32,
   "metadata": {},
   "outputs": [],
   "source": [
    "# !ssh xilinx@192.168.3.1\n",
    "\n"
   ]
  },
  {
   "cell_type": "code",
   "execution_count": 2,
   "metadata": {},
   "outputs": [
    {
     "name": "stdout",
     "output_type": "stream",
     "text": [
      "Welcome to PYNQ Linux, based on Ubuntu 18.04 (GNU/Linux 4.19.0-xilinx-v2019.1 aarch64)\r\n",
      "\r\n"
     ]
    }
   ],
   "source": [
    "import os\n",
    "\n",
    "# set up the following values according to your own environment\n",
    "# FINN will use ssh to deploy and run the generated accelerator\n",
    "ip = '192.168.3.1'\n",
    "username = 'xilinx'\n",
    "password = 'xilinx'\n",
    "port = os.getenv(\"PYNQ_PORT\", 22)\n",
    "target_dir = os.getenv(\"PYNQ_TARGET_DIR\", \"/home/xilinx/\" + EXPORT_NAME)\n",
    "# set up ssh options to only allow publickey authentication\n",
    "options = \"-o PreferredAuthentications=publickey -o PasswordAuthentication=no\"\n",
    "\n",
    "# test access to PYNQ board\n",
    "!ssh {options} {username}@{ip} -p {port} cat /var/run/motd.dynamic\n",
    "# !ssh {username}@{ip} -p {port} cat /var/run/motd.dynamic\n",
    "# !ssh {options} {username}@{ip}\n",
    "# !echo {username}@{ip}"
   ]
  },
  {
   "cell_type": "code",
   "execution_count": 4,
   "metadata": {},
   "outputs": [
    {
     "name": "stdout",
     "output_type": "stream",
     "text": [
      "target dir: /home/xilinx/finn_dev_magister\n",
      "pynq driver dir: /tmp/finn_dev_magister/pynq_driver_tsobap8h\n"
     ]
    }
   ],
   "source": [
    "from finn.transformation.fpgadataflow.make_deployment import DeployToPYNQ\n",
    "from finn.transformation.fpgadataflow.make_pynq_driver import MakePYNQDriver\n",
    "from finn.core.modelwrapper import ModelWrapper\n",
    "\n",
    "print('target dir:', target_dir)\n",
    "model = ModelWrapper(join(build_dir, EXPORT_NAME + \"_synth.onnx\"))\n",
    "# create driver\n",
    "model = model.transform(MakePYNQDriver(platform=\"zynq-iodma\"))\n",
    "model = model.transform(DeployToPYNQ(ip, port, username, password, target_dir))\n",
    "model.save(join(build_dir, EXPORT_NAME + \"_deploy.onnx\"))"
   ]
  },
  {
   "cell_type": "code",
   "execution_count": 5,
   "metadata": {},
   "outputs": [
    {
     "data": {
      "text/plain": [
       "'/home/xilinx/finn_dev_magister/pynq_deployment_nu7m3t2n'"
      ]
     },
     "execution_count": 5,
     "metadata": {},
     "output_type": "execute_result"
    }
   ],
   "source": [
    "target_dir_pynq = target_dir + \"/\" + model.get_metadata_prop(\"pynq_deployment_dir\").split(\"/\")[-1]\n",
    "target_dir_pynq"
   ]
  },
  {
   "cell_type": "code",
   "execution_count": 6,
   "metadata": {},
   "outputs": [
    {
     "name": "stdout",
     "output_type": "stream",
     "text": [
      "total 5776\r\n",
      "-rw-rw-r-- 1 xilinx xilinx   20556 Jan 27 21:26 driver_base.py\r\n",
      "-rw-r--r-- 1 xilinx xilinx    5070 Jan 27 21:26 driver.py\r\n",
      "drwxr-xr-x 4 xilinx xilinx    4096 Jan 27 21:26 finn\r\n",
      "-rw-r--r-- 1 xilinx xilinx 5568783 Jan 27 21:26 resizer.bit\r\n",
      "-rw-r--r-- 1 xilinx xilinx  294570 Jan 27 21:26 resizer.hwh\r\n",
      "drwxr-xr-x 2 xilinx xilinx    4096 Jan 27 21:26 runtime_weights\r\n",
      "-rw-rw-r-- 1 xilinx xilinx    4113 Jan 27 21:26 validate.py\r\n"
     ]
    }
   ],
   "source": [
    "! ssh {options} {username}@{ip} -p {port} 'ls -l {target_dir_pynq}'"
   ]
  },
  {
   "cell_type": "markdown",
   "metadata": {},
   "source": [
    "We only have two more steps to be able to remotely execute the deployed bitfile with some test data from the CIFAR-10 dataset. Let's load up some test data that comes bundled with FINN -- *and before you ask, that's supposed to be a cat (CIFAR-10 class number 3)*."
   ]
  },
  {
   "cell_type": "code",
   "execution_count": 37,
   "metadata": {},
   "outputs": [
    {
     "data": {
      "text/plain": [
       "<matplotlib.image.AxesImage at 0x7f6e48bd6730>"
      ]
     },
     "execution_count": 37,
     "metadata": {},
     "output_type": "execute_result"
    },
    {
     "data": {
      "image/png": "[encoded data removed]",
      "text/plain": [
       "<Figure size 432x288 with 1 Axes>"
      ]
     },
     "metadata": {
      "needs_background": "light"
     },
     "output_type": "display_data"
    }
   ],
   "source": [
    "import pkg_resources as pk\n",
    "import matplotlib.pyplot as plt\n",
    "import numpy as np\n",
    "\n",
    "fn = pk.resource_filename(\"finn.qnn-data\", \"cifar10/cifar10-test-data-class3.npz\")\n",
    "x = np.load(fn)[\"arr_0\"]\n",
    "x = x.reshape(3, 32,32).transpose(1, 2, 0)\n",
    "plt.imshow(x)"
   ]
  },
  {
   "cell_type": "markdown",
   "metadata": {},
   "source": [
    "Recall that we partitioned our original network into a parent graph that contained the non-synthesizable nodes and a child graph that contained the bulk of the network, which we turned into a bitfile. The only operator left outside the FPGA partition was a `Transpose` to convert NCHW images into NHWC ones. Thus, we can skip the execution in the parent as long as we ensure our image has the expected data layout, which we have done above."
   ]
  },
  {
   "cell_type": "code",
   "execution_count": 7,
   "metadata": {
    "scrolled": true
   },
   "outputs": [
    {
     "name": "stdout",
     "output_type": "stream",
     "text": [
      "uint8 (224, 224, 3)\n",
      "[[[ 98 100 101]\n",
      "  [ 97  99 100]\n",
      "  [ 95  97  98]\n",
      "  ...\n",
      "  [221 237 249]\n",
      "  [220 235 245]\n",
      "  [219 234 243]]\n",
      "\n",
      " [[ 96  98  99]\n",
      "  [ 94  96  97]\n",
      "  [ 91  92  93]\n",
      "  ...\n",
      "  [224 240 252]\n",
      "  [222 238 250]\n",
      "  [222 237 248]]\n",
      "\n",
      " [[ 93  95  97]\n",
      "  [ 90  92  94]\n",
      "  [ 86  87  89]\n",
      "  ...\n",
      "  [226 244 255]\n",
      "  [225 242 254]\n",
      "  [225 241 253]]\n",
      "\n",
      " ...\n",
      "\n",
      " [[223 236 252]\n",
      "  [223 236 252]\n",
      "  [223 236 252]\n",
      "  ...\n",
      "  [160 127 114]\n",
      "  [159 127 113]\n",
      "  [159 126 113]]\n",
      "\n",
      " [[223 234 251]\n",
      "  [223 234 251]\n",
      "  [223 234 251]\n",
      "  ...\n",
      "  [153 123 111]\n",
      "  [156 127 114]\n",
      "  [158 130 117]]\n",
      "\n",
      " [[223 233 250]\n",
      "  [223 233 250]\n",
      "  [223 233 250]\n",
      "  ...\n",
      "  [145 119 107]\n",
      "  [152 128 116]\n",
      "  [158 134 122]]]\n",
      "(1, 224, 224, 3)\n",
      "dupal\n"
     ]
    }
   ],
   "source": [
    "import numpy as np\n",
    "from finn.core.onnx_exec import execute_onnx\n",
    "\n",
    "model = ModelWrapper(join(build_dir, EXPORT_NAME + \"_deploy.onnx\"))\n",
    "iname = model.graph.input[0].name\n",
    "oname = model.graph.output[0].name\n",
    "ishape = model.get_tensor_shape(iname)\n",
    "test_input = np.load(join(EXPORT_NAME, 'test_input.npy'))\n",
    "print(test_input.dtype, test_input.shape)\n",
    "print(test_input)\n",
    "test_input = np.expand_dims(test_input, 0)\n",
    "print(test_input.shape)\n",
    "\n",
    "input_dict = {iname: test_input}\n",
    "ret = execute_onnx(model, input_dict, True)\n",
    "print('dupal')"
   ]
  },
  {
   "cell_type": "code",
   "execution_count": 11,
   "metadata": {
    "scrolled": true
   },
   "outputs": [
    {
     "name": "stdout",
     "output_type": "stream",
     "text": [
      "float32\n",
      "(1, 64, 112, 112)\n",
      "[[0.8470589  0.23529413 0.         ... 1.         1.         1.        ]\n",
      " [1.         0.35686275 0.         ... 0.27450982 0.27450982 1.        ]\n",
      " [1.         0.4784314  0.         ... 0.27450982 0.27450982 1.        ]\n",
      " ...\n",
      " [0.27450982 0.27450982 0.27450982 ... 0.3372549  0.3372549  1.        ]\n",
      " [0.27450982 0.27450982 0.27450982 ... 0.43921572 0.3372549  1.        ]\n",
      " [0.27450982 0.27450982 0.27450982 ... 0.7058824  0.1137255  1.        ]]\n",
      "(array([0, 0, 0, 0, 0, 0, 0, 0, 0, 0, 0, 0]), array([27, 27, 27, 27, 27, 27, 27, 27, 27, 27, 27, 27]), array([  5,   9,   9,  13,  14,  14,  15,  17,  18,  19,  72, 101]), array([14, 14, 36, 31, 31, 33, 34, 30, 29, 32, 96, 73]))\n",
      "[0.         0.00392157]\n"
     ]
    }
   ],
   "source": [
    "the_result = ret[oname]\n",
    "the_result = the_result.transpose(0, 3, 1, 2)\n",
    "print(the_result.dtype)\n",
    "print(the_result.shape)\n",
    "# print(the_result[0, 0])\n",
    "# sys.exit()\n",
    "\n",
    "\n",
    "mul = np.load(join(EXPORT_NAME, 'Mul_0_param0.npy'))\n",
    "# add = np.load(join(EXPORT_NAME, 'Add_0_param0.npy'))\n",
    "the_result = the_result * mul\n",
    "# the_result = the_result + add\n",
    "print(the_result[0, 0])\n",
    "diffs = test_output.detach().numpy() - the_result\n",
    "nonzeros = np.nonzero(diffs)\n",
    "print(nonzeros)\n",
    "print(np.unique(diffs))"
   ]
  },
  {
   "cell_type": "markdown",
   "metadata": {},
   "source": [
    "We see that the network correctly predicts this as a class 3 (\"cat\"). "
   ]
  },
  {
   "cell_type": "markdown",
   "metadata": {},
   "source": [
    "### Validating the Accuracy on a PYNQ Board <a id='validation'></a>\n",
    "\n",
    "All the command line prompts here are meant to be executed with `sudo` on the PYNQ board, so we'll use a workaround (`echo password | sudo -S command`) to get that working from this notebook running on the host computer.\n",
    "\n",
    "**Ensure that your PYNQ board has a working internet connecting for the next steps, since some there is some downloading involved.**\n",
    "\n",
    "To validate the accuracy, we first need to install the [`dataset-loading`](https://github.com/fbcotter/dataset_loading) Python package to the PYNQ board. This will give us a convenient way of downloading and accessing the MNIST dataset.\n",
    "\n",
    "\n",
    "Command to execute on PYNQ:\n",
    "\n",
    "```pip3 install git+https://github.com/fbcotter/dataset_loading.git@0.0.4#egg=dataset_loading```"
   ]
  },
  {
   "cell_type": "code",
   "execution_count": null,
   "metadata": {},
   "outputs": [],
   "source": [
    "! ssh {options} -t {username}@{ip} -p {port} 'echo {password} | sudo -S pip3 install git+https://github.com/fbcotter/dataset_loading.git@0.0.4#egg=dataset_loading'"
   ]
  },
  {
   "cell_type": "markdown",
   "metadata": {},
   "source": [
    "We can now use the `validate.py` script that was generated together with the driver to measure top-1 accuracy on the CIFAR-10 dataset.\n",
    "\n",
    "Command to execute on PYNQ:\n",
    "\n",
    "`python3.6 validate.py --dataset cifar10 --batchsize 1000`"
   ]
  },
  {
   "cell_type": "code",
   "execution_count": null,
   "metadata": {},
   "outputs": [],
   "source": [
    "! ssh {options} -t {username}@{ip} -p {port} 'cd {target_dir_pynq}; echo {password} | sudo -S python3.6 validate.py --dataset cifar10 --batchsize 1000'"
   ]
  },
  {
   "cell_type": "markdown",
   "metadata": {},
   "source": [
    "We see that the final top-1 accuracy is 84.19%, which is very close to the 84.22% reported on the [BNN-PYNQ accuracy table in Brevitas](https://github.com/Xilinx/brevitas/tree/master/brevitas_examples/bnn_pynq). "
   ]
  },
  {
   "cell_type": "code",
   "execution_count": null,
   "metadata": {},
   "outputs": [],
   "source": []
  }
 ],
 "metadata": {
  "kernelspec": {
   "display_name": "Python 3",
   "language": "python",
   "name": "python3"
  },
  "language_info": {
   "codemirror_mode": {
    "name": "ipython",
    "version": 3
   },
   "file_extension": ".py",
   "mimetype": "text/x-python",
   "name": "python",
   "nbconvert_exporter": "python",
   "pygments_lexer": "ipython3",
   "version": "3.8.5"
  }
 },
 "nbformat": 4,
 "nbformat_minor": 2
}
